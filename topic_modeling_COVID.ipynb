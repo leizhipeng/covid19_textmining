{
 "cells": [
  {
   "cell_type": "code",
   "execution_count": 2,
   "metadata": {
    "collapsed": true
   },
   "outputs": [],
   "source": [
    "#!pip install spacy-langdetect\n",
    "#!pip install language-detector\n",
    "#!pip install symspellpy\n",
    "#!pip install sentence-transformers"
   ]
  },
  {
   "cell_type": "markdown",
   "source": [
    "## importing all dependencies."
   ],
   "metadata": {
    "collapsed": false,
    "pycharm": {
     "name": "#%% md\n"
    }
   }
  },
  {
   "cell_type": "code",
   "execution_count": 1,
   "outputs": [
    {
     "name": "stderr",
     "output_type": "stream",
     "text": [
      "C:\\Users\\zhipe\\Anaconda3\\envs\\tensorflow\\lib\\site-packages\\gensim\\utils.py:1167: UserWarning: detected Windows; aliasing chunkize to chunkize_serial\n",
      "  warnings.warn(\"detected Windows; aliasing chunkize to chunkize_serial\")\n"
     ]
    }
   ],
   "source": [
    "import os\n",
    "import json\n",
    "import pandas as pd\n",
    "from tqdm import tqdm\n",
    "import numpy as np\n",
    "from nltk.corpus import wordnet\n",
    "import re\n",
    "from nltk.corpus import stopwords\n",
    "import gensim\n",
    "from gensim.utils import simple_preprocess\n",
    "from gensim import corpora, models\n",
    "from gensim.parsing.preprocessing import STOPWORDS\n",
    "from nltk.stem import WordNetLemmatizer, SnowballStemmer\n",
    "from nltk.stem.porter import *\n",
    "import datetime\n",
    "import time\n",
    "from sklearn.decomposition import PCA\n",
    "from sklearn.manifold import TSNE\n",
    "import seaborn as sns\n",
    "import matplotlib.pyplot as plt\n",
    "from mpl_toolkits.mplot3d import Axes3D\n",
    "import nltk\n",
    "\n",
    "%matplotlib inline"
   ],
   "metadata": {
    "collapsed": false,
    "pycharm": {
     "name": "#%%\n"
    }
   }
  },
  {
   "cell_type": "markdown",
   "source": [
    "## Read dataset."
   ],
   "metadata": {
    "collapsed": false,
    "pycharm": {
     "name": "#%% md\n"
    }
   }
  },
  {
   "cell_type": "code",
   "execution_count": 2,
   "outputs": [
    {
     "name": "stderr",
     "output_type": "stream",
     "text": [
      "C:\\Users\\zhipe\\Anaconda3\\envs\\tensorflow\\lib\\site-packages\\IPython\\core\\interactiveshell.py:2728: DtypeWarning: Columns (1,4,5,6,13,14,15,16) have mixed types. Specify dtype option on import or set low_memory=False.\n",
      "  interactivity=interactivity, compiler=compiler, result=result)\n"
     ]
    },
    {
     "name": "stdout",
     "output_type": "stream",
     "text": [
      "(341713, 19)\n"
     ]
    }
   ],
   "source": [
    "meta = pd.read_csv(\"../metadata.csv\")\n",
    "print(meta.shape)"
   ],
   "metadata": {
    "collapsed": false,
    "pycharm": {
     "name": "#%%\n"
    }
   }
  },
  {
   "cell_type": "code",
   "execution_count": 3,
   "outputs": [
    {
     "data": {
      "text/plain": "   cord_uid                                       sha source_x  \\\n0  ug7v899j  d1aafb70c066a2068b02786f8929fd9c900897fb      PMC   \n1  02tnwd4m  6b0567729c2143a66d737eb0a2f63f2dce2e5a7d      PMC   \n2  ejv2xln0  06ced00a5fc04215949aa72528f2eeaae1d58927      PMC   \n3  2b73a28n  348055649b6b8cf2b9a376498df9bf41f7123605      PMC   \n4  9785vg6d  5f48792a5fa08bed9f56016f4981ae2ca6031b32      PMC   \n\n                                               title                    doi  \\\n0  Clinical features of culture-proven Mycoplasma...  10.1186/1471-2334-1-6   \n1  Nitric oxide: a pro-inflammatory mediator in l...           10.1186/rr14   \n2    Surfactant protein-D and pulmonary host defense           10.1186/rr19   \n3               Role of endothelin-1 in lung disease           10.1186/rr44   \n4  Gene expression in epithelial cells in respons...           10.1186/rr61   \n\n      pmcid pubmed_id license  \\\n0  PMC35282  11472636   no-cc   \n1  PMC59543  11667967   no-cc   \n2  PMC59549  11667972   no-cc   \n3  PMC59574  11686871   no-cc   \n4  PMC59580  11686888   no-cc   \n\n                                            abstract publish_time  \\\n0  OBJECTIVE: This retrospective chart review des...   2001-07-04   \n1  Inflammatory diseases of the respiratory tract...   2000-08-15   \n2  Surfactant protein-D (SP-D) participates in th...   2000-08-25   \n3  Endothelin-1 (ET-1) is a 21 amino acid peptide...   2001-02-22   \n4  Respiratory syncytial virus (RSV) and pneumoni...   2001-05-11   \n\n                                             authors         journal  mag_id  \\\n0                Madani, Tariq A; Al-Ghamdi, Aisha A  BMC Infect Dis     NaN   \n1  Vliet, Albert van der; Eiserich, Jason P; Cros...      Respir Res     NaN   \n2                                    Crouch, Erika C      Respir Res     NaN   \n3  Fagan, Karen A; McMurtry, Ivan F; Rodman, David M      Respir Res     NaN   \n4  Domachowske, Joseph B; Bonville, Cynthia A; Ro...      Respir Res     NaN   \n\n  who_covidence_id arxiv_id  \\\n0              NaN      NaN   \n1              NaN      NaN   \n2              NaN      NaN   \n3              NaN      NaN   \n4              NaN      NaN   \n\n                                      pdf_json_files  \\\n0  document_parses/pdf_json/d1aafb70c066a2068b027...   \n1  document_parses/pdf_json/6b0567729c2143a66d737...   \n2  document_parses/pdf_json/06ced00a5fc04215949aa...   \n3  document_parses/pdf_json/348055649b6b8cf2b9a37...   \n4  document_parses/pdf_json/5f48792a5fa08bed9f560...   \n\n                               pmc_json_files  \\\n0  document_parses/pmc_json/PMC35282.xml.json   \n1  document_parses/pmc_json/PMC59543.xml.json   \n2  document_parses/pmc_json/PMC59549.xml.json   \n3  document_parses/pmc_json/PMC59574.xml.json   \n4  document_parses/pmc_json/PMC59580.xml.json   \n\n                                                 url  s2_id  \n0  https://www.ncbi.nlm.nih.gov/pmc/articles/PMC3...    NaN  \n1  https://www.ncbi.nlm.nih.gov/pmc/articles/PMC5...    NaN  \n2  https://www.ncbi.nlm.nih.gov/pmc/articles/PMC5...    NaN  \n3  https://www.ncbi.nlm.nih.gov/pmc/articles/PMC5...    NaN  \n4  https://www.ncbi.nlm.nih.gov/pmc/articles/PMC5...    NaN  ",
      "text/html": "<div>\n<style scoped>\n    .dataframe tbody tr th:only-of-type {\n        vertical-align: middle;\n    }\n\n    .dataframe tbody tr th {\n        vertical-align: top;\n    }\n\n    .dataframe thead th {\n        text-align: right;\n    }\n</style>\n<table border=\"1\" class=\"dataframe\">\n  <thead>\n    <tr style=\"text-align: right;\">\n      <th></th>\n      <th>cord_uid</th>\n      <th>sha</th>\n      <th>source_x</th>\n      <th>title</th>\n      <th>doi</th>\n      <th>pmcid</th>\n      <th>pubmed_id</th>\n      <th>license</th>\n      <th>abstract</th>\n      <th>publish_time</th>\n      <th>authors</th>\n      <th>journal</th>\n      <th>mag_id</th>\n      <th>who_covidence_id</th>\n      <th>arxiv_id</th>\n      <th>pdf_json_files</th>\n      <th>pmc_json_files</th>\n      <th>url</th>\n      <th>s2_id</th>\n    </tr>\n  </thead>\n  <tbody>\n    <tr>\n      <th>0</th>\n      <td>ug7v899j</td>\n      <td>d1aafb70c066a2068b02786f8929fd9c900897fb</td>\n      <td>PMC</td>\n      <td>Clinical features of culture-proven Mycoplasma...</td>\n      <td>10.1186/1471-2334-1-6</td>\n      <td>PMC35282</td>\n      <td>11472636</td>\n      <td>no-cc</td>\n      <td>OBJECTIVE: This retrospective chart review des...</td>\n      <td>2001-07-04</td>\n      <td>Madani, Tariq A; Al-Ghamdi, Aisha A</td>\n      <td>BMC Infect Dis</td>\n      <td>NaN</td>\n      <td>NaN</td>\n      <td>NaN</td>\n      <td>document_parses/pdf_json/d1aafb70c066a2068b027...</td>\n      <td>document_parses/pmc_json/PMC35282.xml.json</td>\n      <td>https://www.ncbi.nlm.nih.gov/pmc/articles/PMC3...</td>\n      <td>NaN</td>\n    </tr>\n    <tr>\n      <th>1</th>\n      <td>02tnwd4m</td>\n      <td>6b0567729c2143a66d737eb0a2f63f2dce2e5a7d</td>\n      <td>PMC</td>\n      <td>Nitric oxide: a pro-inflammatory mediator in l...</td>\n      <td>10.1186/rr14</td>\n      <td>PMC59543</td>\n      <td>11667967</td>\n      <td>no-cc</td>\n      <td>Inflammatory diseases of the respiratory tract...</td>\n      <td>2000-08-15</td>\n      <td>Vliet, Albert van der; Eiserich, Jason P; Cros...</td>\n      <td>Respir Res</td>\n      <td>NaN</td>\n      <td>NaN</td>\n      <td>NaN</td>\n      <td>document_parses/pdf_json/6b0567729c2143a66d737...</td>\n      <td>document_parses/pmc_json/PMC59543.xml.json</td>\n      <td>https://www.ncbi.nlm.nih.gov/pmc/articles/PMC5...</td>\n      <td>NaN</td>\n    </tr>\n    <tr>\n      <th>2</th>\n      <td>ejv2xln0</td>\n      <td>06ced00a5fc04215949aa72528f2eeaae1d58927</td>\n      <td>PMC</td>\n      <td>Surfactant protein-D and pulmonary host defense</td>\n      <td>10.1186/rr19</td>\n      <td>PMC59549</td>\n      <td>11667972</td>\n      <td>no-cc</td>\n      <td>Surfactant protein-D (SP-D) participates in th...</td>\n      <td>2000-08-25</td>\n      <td>Crouch, Erika C</td>\n      <td>Respir Res</td>\n      <td>NaN</td>\n      <td>NaN</td>\n      <td>NaN</td>\n      <td>document_parses/pdf_json/06ced00a5fc04215949aa...</td>\n      <td>document_parses/pmc_json/PMC59549.xml.json</td>\n      <td>https://www.ncbi.nlm.nih.gov/pmc/articles/PMC5...</td>\n      <td>NaN</td>\n    </tr>\n    <tr>\n      <th>3</th>\n      <td>2b73a28n</td>\n      <td>348055649b6b8cf2b9a376498df9bf41f7123605</td>\n      <td>PMC</td>\n      <td>Role of endothelin-1 in lung disease</td>\n      <td>10.1186/rr44</td>\n      <td>PMC59574</td>\n      <td>11686871</td>\n      <td>no-cc</td>\n      <td>Endothelin-1 (ET-1) is a 21 amino acid peptide...</td>\n      <td>2001-02-22</td>\n      <td>Fagan, Karen A; McMurtry, Ivan F; Rodman, David M</td>\n      <td>Respir Res</td>\n      <td>NaN</td>\n      <td>NaN</td>\n      <td>NaN</td>\n      <td>document_parses/pdf_json/348055649b6b8cf2b9a37...</td>\n      <td>document_parses/pmc_json/PMC59574.xml.json</td>\n      <td>https://www.ncbi.nlm.nih.gov/pmc/articles/PMC5...</td>\n      <td>NaN</td>\n    </tr>\n    <tr>\n      <th>4</th>\n      <td>9785vg6d</td>\n      <td>5f48792a5fa08bed9f56016f4981ae2ca6031b32</td>\n      <td>PMC</td>\n      <td>Gene expression in epithelial cells in respons...</td>\n      <td>10.1186/rr61</td>\n      <td>PMC59580</td>\n      <td>11686888</td>\n      <td>no-cc</td>\n      <td>Respiratory syncytial virus (RSV) and pneumoni...</td>\n      <td>2001-05-11</td>\n      <td>Domachowske, Joseph B; Bonville, Cynthia A; Ro...</td>\n      <td>Respir Res</td>\n      <td>NaN</td>\n      <td>NaN</td>\n      <td>NaN</td>\n      <td>document_parses/pdf_json/5f48792a5fa08bed9f560...</td>\n      <td>document_parses/pmc_json/PMC59580.xml.json</td>\n      <td>https://www.ncbi.nlm.nih.gov/pmc/articles/PMC5...</td>\n      <td>NaN</td>\n    </tr>\n  </tbody>\n</table>\n</div>"
     },
     "execution_count": 3,
     "metadata": {},
     "output_type": "execute_result"
    }
   ],
   "source": [
    "meta.head()"
   ],
   "metadata": {
    "collapsed": false,
    "pycharm": {
     "name": "#%%\n"
    }
   }
  },
  {
   "cell_type": "markdown",
   "source": [
    "## Filter meta file by selecting only papers after 2020."
   ],
   "metadata": {
    "collapsed": false,
    "pycharm": {
     "name": "#%% md\n"
    }
   }
  },
  {
   "cell_type": "code",
   "execution_count": 4,
   "outputs": [
    {
     "name": "stdout",
     "output_type": "stream",
     "text": [
      "247255  papers are available after 2020 Jan 1.\n"
     ]
    }
   ],
   "source": [
    "meta[\"publish_time\"] = pd.to_datetime(meta[\"publish_time\"])\n",
    "meta[\"publish_year\"] = (pd.DatetimeIndex(meta['publish_time']).year)\n",
    "meta[\"publish_month\"] = (pd.DatetimeIndex(meta['publish_time']).month)\n",
    "meta = meta[meta[\"publish_year\"] == 2020]\n",
    "print(meta.shape[0], \" papers are available after 2020 Jan 1.\")"
   ],
   "metadata": {
    "collapsed": false,
    "pycharm": {
     "name": "#%%\n"
    }
   }
  },
  {
   "cell_type": "code",
   "execution_count": 5,
   "outputs": [
    {
     "data": {
      "text/plain": "publish_month  publish_year\n1.0            2020.0          123040\n2.0            2020.0            1881\n3.0            2020.0            4861\n4.0            2020.0           12299\n5.0            2020.0           18171\n6.0            2020.0           17611\n7.0            2020.0           17723\n8.0            2020.0           16545\n9.0            2020.0           17559\n10.0           2020.0           14888\n11.0           2020.0            2280\n12.0           2020.0             397\ndtype: int64"
     },
     "execution_count": 5,
     "metadata": {},
     "output_type": "execute_result"
    }
   ],
   "source": [
    "#meta.groupby([\"publish_month\",\"publish_year\"]).size().plot(kind='bar')\n",
    "meta.groupby([\"publish_month\",\"publish_year\"]).size()"
   ],
   "metadata": {
    "collapsed": false,
    "pycharm": {
     "name": "#%%\n"
    }
   }
  },
  {
   "cell_type": "code",
   "execution_count": 6,
   "outputs": [
    {
     "name": "stdout",
     "output_type": "stream",
     "text": [
      "Index(['cord_uid', 'sha', 'source_x', 'title', 'doi', 'pmcid', 'pubmed_id',\n",
      "       'license', 'abstract', 'publish_time', 'authors', 'journal', 'mag_id',\n",
      "       'who_covidence_id', 'arxiv_id', 'pdf_json_files', 'pmc_json_files',\n",
      "       'url', 's2_id', 'publish_year', 'publish_month'],\n",
      "      dtype='object')\n"
     ]
    }
   ],
   "source": [
    "print(meta.columns)"
   ],
   "metadata": {
    "collapsed": false,
    "pycharm": {
     "name": "#%%\n"
    }
   }
  },
  {
   "cell_type": "code",
   "execution_count": 38,
   "outputs": [],
   "source": [
    "#tmp = meta.groupby([\"journal\"])[\"journal\"].count()\n",
    "#tmp=tmp.sort_index()\n",
    "#print(tmp.size)"
   ],
   "metadata": {
    "collapsed": false,
    "pycharm": {
     "name": "#%%\n"
    }
   }
  },
  {
   "cell_type": "markdown",
   "source": [
    "## Count how many documents has abstract"
   ],
   "metadata": {
    "collapsed": false,
    "pycharm": {
     "name": "#%% md\n"
    }
   }
  },
  {
   "cell_type": "code",
   "execution_count": 7,
   "outputs": [
    {
     "name": "stdout",
     "output_type": "stream",
     "text": [
      "163820  papers have abstract available.\n"
     ]
    }
   ],
   "source": [
    "count = 0\n",
    "index = []\n",
    "for i in range(len(meta)):\n",
    "    #print(i)\n",
    "    if type(meta.iloc[i, 8])== float:\n",
    "        count += 1\n",
    "    else:\n",
    "        index.append(i)\n",
    "\n",
    "print(len(index), \" papers have abstract available.\")"
   ],
   "metadata": {
    "collapsed": false,
    "pycharm": {
     "name": "#%%\n"
    }
   }
  },
  {
   "cell_type": "markdown",
   "source": [
    "## Obtain abstracts.\n",
    "## Create dataframe with all abstracts and use it as input corpus."
   ],
   "metadata": {
    "collapsed": false,
    "pycharm": {
     "name": "#%% md\n"
    }
   }
  },
  {
   "cell_type": "code",
   "execution_count": 14,
   "outputs": [
    {
     "data": {
      "text/plain": "                                            abstract  index\n0  BACKGROUND: Dexmedetomidine has been reported ...      0\n1  BACKGROUND: Global end-diastolic volume (GEDV)...      1\n2  BACKGROUND: Human metapneumovirus (HMPV) is an...      2",
      "text/html": "<div>\n<style scoped>\n    .dataframe tbody tr th:only-of-type {\n        vertical-align: middle;\n    }\n\n    .dataframe tbody tr th {\n        vertical-align: top;\n    }\n\n    .dataframe thead th {\n        text-align: right;\n    }\n</style>\n<table border=\"1\" class=\"dataframe\">\n  <thead>\n    <tr style=\"text-align: right;\">\n      <th></th>\n      <th>abstract</th>\n      <th>index</th>\n    </tr>\n  </thead>\n  <tbody>\n    <tr>\n      <th>0</th>\n      <td>BACKGROUND: Dexmedetomidine has been reported ...</td>\n      <td>0</td>\n    </tr>\n    <tr>\n      <th>1</th>\n      <td>BACKGROUND: Global end-diastolic volume (GEDV)...</td>\n      <td>1</td>\n    </tr>\n    <tr>\n      <th>2</th>\n      <td>BACKGROUND: Human metapneumovirus (HMPV) is an...</td>\n      <td>2</td>\n    </tr>\n  </tbody>\n</table>\n</div>"
     },
     "execution_count": 14,
     "metadata": {},
     "output_type": "execute_result"
    }
   ],
   "source": [
    "documents = meta.iloc[index, 8]\n",
    "documents=documents.reset_index()\n",
    "documents.head()\n",
    "documents.drop(\"index\", inplace = True, axis = 1)\n",
    "documents[\"index\"] = documents.index.values\n",
    "documents.head(3)"
   ],
   "metadata": {
    "collapsed": false,
    "pycharm": {
     "name": "#%%\n"
    }
   }
  },
  {
   "cell_type": "code",
   "execution_count": null,
   "outputs": [],
   "source": [],
   "metadata": {
    "collapsed": false,
    "pycharm": {
     "name": "#%%\n"
    }
   }
  }
 ],
 "metadata": {
  "kernelspec": {
   "display_name": "Python 3",
   "language": "python",
   "name": "python3"
  },
  "language_info": {
   "codemirror_mode": {
    "name": "ipython",
    "version": 2
   },
   "file_extension": ".py",
   "mimetype": "text/x-python",
   "name": "python",
   "nbconvert_exporter": "python",
   "pygments_lexer": "ipython2",
   "version": "2.7.6"
  }
 },
 "nbformat": 4,
 "nbformat_minor": 0
}