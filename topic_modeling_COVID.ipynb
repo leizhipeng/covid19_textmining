{
 "cells": [
  {
   "cell_type": "code",
   "execution_count": 1,
   "metadata": {
    "collapsed": true
   },
   "outputs": [],
   "source": [
    "#!pip install spacy-langdetect\n",
    "#!pip install language-detector\n",
    "#!pip install symspellpy\n",
    "#!pip install sentence-transformers"
   ]
  },
  {
   "cell_type": "markdown",
   "source": [
    "# 1. Read dataset."
   ],
   "metadata": {
    "collapsed": false,
    "pycharm": {
     "name": "#%% md\n"
    }
   }
  },
  {
   "cell_type": "code",
   "execution_count": 2,
   "outputs": [],
   "source": [
    "import pandas as pd\n",
    "import numpy as np\n",
    "import matplotlib.pyplot as plt\n",
    "%matplotlib inline"
   ],
   "metadata": {
    "collapsed": false,
    "pycharm": {
     "name": "#%%\n"
    }
   }
  },
  {
   "cell_type": "code",
   "execution_count": 3,
   "outputs": [
    {
     "name": "stderr",
     "output_type": "stream",
     "text": [
      "C:\\Users\\zhipe\\Anaconda3\\envs\\tm\\lib\\site-packages\\IPython\\core\\interactiveshell.py:3146: DtypeWarning: Columns (1,4,5,6,13,14,15,16) have mixed types.Specify dtype option on import or set low_memory=False.\n",
      "  has_raised = await self.run_ast_nodes(code_ast.body, cell_name,\n"
     ]
    },
    {
     "name": "stdout",
     "output_type": "stream",
     "text": [
      "(341713, 19)\n"
     ]
    },
    {
     "data": {
      "text/plain": "   cord_uid                                       sha source_x  \\\n0  ug7v899j  d1aafb70c066a2068b02786f8929fd9c900897fb      PMC   \n1  02tnwd4m  6b0567729c2143a66d737eb0a2f63f2dce2e5a7d      PMC   \n2  ejv2xln0  06ced00a5fc04215949aa72528f2eeaae1d58927      PMC   \n3  2b73a28n  348055649b6b8cf2b9a376498df9bf41f7123605      PMC   \n4  9785vg6d  5f48792a5fa08bed9f56016f4981ae2ca6031b32      PMC   \n\n                                               title                    doi  \\\n0  Clinical features of culture-proven Mycoplasma...  10.1186/1471-2334-1-6   \n1  Nitric oxide: a pro-inflammatory mediator in l...           10.1186/rr14   \n2    Surfactant protein-D and pulmonary host defense           10.1186/rr19   \n3               Role of endothelin-1 in lung disease           10.1186/rr44   \n4  Gene expression in epithelial cells in respons...           10.1186/rr61   \n\n      pmcid pubmed_id license  \\\n0  PMC35282  11472636   no-cc   \n1  PMC59543  11667967   no-cc   \n2  PMC59549  11667972   no-cc   \n3  PMC59574  11686871   no-cc   \n4  PMC59580  11686888   no-cc   \n\n                                            abstract publish_time  \\\n0  OBJECTIVE: This retrospective chart review des...   2001-07-04   \n1  Inflammatory diseases of the respiratory tract...   2000-08-15   \n2  Surfactant protein-D (SP-D) participates in th...   2000-08-25   \n3  Endothelin-1 (ET-1) is a 21 amino acid peptide...   2001-02-22   \n4  Respiratory syncytial virus (RSV) and pneumoni...   2001-05-11   \n\n                                             authors         journal  mag_id  \\\n0                Madani, Tariq A; Al-Ghamdi, Aisha A  BMC Infect Dis     NaN   \n1  Vliet, Albert van der; Eiserich, Jason P; Cros...      Respir Res     NaN   \n2                                    Crouch, Erika C      Respir Res     NaN   \n3  Fagan, Karen A; McMurtry, Ivan F; Rodman, David M      Respir Res     NaN   \n4  Domachowske, Joseph B; Bonville, Cynthia A; Ro...      Respir Res     NaN   \n\n  who_covidence_id arxiv_id  \\\n0              NaN      NaN   \n1              NaN      NaN   \n2              NaN      NaN   \n3              NaN      NaN   \n4              NaN      NaN   \n\n                                      pdf_json_files  \\\n0  document_parses/pdf_json/d1aafb70c066a2068b027...   \n1  document_parses/pdf_json/6b0567729c2143a66d737...   \n2  document_parses/pdf_json/06ced00a5fc04215949aa...   \n3  document_parses/pdf_json/348055649b6b8cf2b9a37...   \n4  document_parses/pdf_json/5f48792a5fa08bed9f560...   \n\n                               pmc_json_files  \\\n0  document_parses/pmc_json/PMC35282.xml.json   \n1  document_parses/pmc_json/PMC59543.xml.json   \n2  document_parses/pmc_json/PMC59549.xml.json   \n3  document_parses/pmc_json/PMC59574.xml.json   \n4  document_parses/pmc_json/PMC59580.xml.json   \n\n                                                 url  s2_id  \n0  https://www.ncbi.nlm.nih.gov/pmc/articles/PMC3...    NaN  \n1  https://www.ncbi.nlm.nih.gov/pmc/articles/PMC5...    NaN  \n2  https://www.ncbi.nlm.nih.gov/pmc/articles/PMC5...    NaN  \n3  https://www.ncbi.nlm.nih.gov/pmc/articles/PMC5...    NaN  \n4  https://www.ncbi.nlm.nih.gov/pmc/articles/PMC5...    NaN  ",
      "text/html": "<div>\n<style scoped>\n    .dataframe tbody tr th:only-of-type {\n        vertical-align: middle;\n    }\n\n    .dataframe tbody tr th {\n        vertical-align: top;\n    }\n\n    .dataframe thead th {\n        text-align: right;\n    }\n</style>\n<table border=\"1\" class=\"dataframe\">\n  <thead>\n    <tr style=\"text-align: right;\">\n      <th></th>\n      <th>cord_uid</th>\n      <th>sha</th>\n      <th>source_x</th>\n      <th>title</th>\n      <th>doi</th>\n      <th>pmcid</th>\n      <th>pubmed_id</th>\n      <th>license</th>\n      <th>abstract</th>\n      <th>publish_time</th>\n      <th>authors</th>\n      <th>journal</th>\n      <th>mag_id</th>\n      <th>who_covidence_id</th>\n      <th>arxiv_id</th>\n      <th>pdf_json_files</th>\n      <th>pmc_json_files</th>\n      <th>url</th>\n      <th>s2_id</th>\n    </tr>\n  </thead>\n  <tbody>\n    <tr>\n      <th>0</th>\n      <td>ug7v899j</td>\n      <td>d1aafb70c066a2068b02786f8929fd9c900897fb</td>\n      <td>PMC</td>\n      <td>Clinical features of culture-proven Mycoplasma...</td>\n      <td>10.1186/1471-2334-1-6</td>\n      <td>PMC35282</td>\n      <td>11472636</td>\n      <td>no-cc</td>\n      <td>OBJECTIVE: This retrospective chart review des...</td>\n      <td>2001-07-04</td>\n      <td>Madani, Tariq A; Al-Ghamdi, Aisha A</td>\n      <td>BMC Infect Dis</td>\n      <td>NaN</td>\n      <td>NaN</td>\n      <td>NaN</td>\n      <td>document_parses/pdf_json/d1aafb70c066a2068b027...</td>\n      <td>document_parses/pmc_json/PMC35282.xml.json</td>\n      <td>https://www.ncbi.nlm.nih.gov/pmc/articles/PMC3...</td>\n      <td>NaN</td>\n    </tr>\n    <tr>\n      <th>1</th>\n      <td>02tnwd4m</td>\n      <td>6b0567729c2143a66d737eb0a2f63f2dce2e5a7d</td>\n      <td>PMC</td>\n      <td>Nitric oxide: a pro-inflammatory mediator in l...</td>\n      <td>10.1186/rr14</td>\n      <td>PMC59543</td>\n      <td>11667967</td>\n      <td>no-cc</td>\n      <td>Inflammatory diseases of the respiratory tract...</td>\n      <td>2000-08-15</td>\n      <td>Vliet, Albert van der; Eiserich, Jason P; Cros...</td>\n      <td>Respir Res</td>\n      <td>NaN</td>\n      <td>NaN</td>\n      <td>NaN</td>\n      <td>document_parses/pdf_json/6b0567729c2143a66d737...</td>\n      <td>document_parses/pmc_json/PMC59543.xml.json</td>\n      <td>https://www.ncbi.nlm.nih.gov/pmc/articles/PMC5...</td>\n      <td>NaN</td>\n    </tr>\n    <tr>\n      <th>2</th>\n      <td>ejv2xln0</td>\n      <td>06ced00a5fc04215949aa72528f2eeaae1d58927</td>\n      <td>PMC</td>\n      <td>Surfactant protein-D and pulmonary host defense</td>\n      <td>10.1186/rr19</td>\n      <td>PMC59549</td>\n      <td>11667972</td>\n      <td>no-cc</td>\n      <td>Surfactant protein-D (SP-D) participates in th...</td>\n      <td>2000-08-25</td>\n      <td>Crouch, Erika C</td>\n      <td>Respir Res</td>\n      <td>NaN</td>\n      <td>NaN</td>\n      <td>NaN</td>\n      <td>document_parses/pdf_json/06ced00a5fc04215949aa...</td>\n      <td>document_parses/pmc_json/PMC59549.xml.json</td>\n      <td>https://www.ncbi.nlm.nih.gov/pmc/articles/PMC5...</td>\n      <td>NaN</td>\n    </tr>\n    <tr>\n      <th>3</th>\n      <td>2b73a28n</td>\n      <td>348055649b6b8cf2b9a376498df9bf41f7123605</td>\n      <td>PMC</td>\n      <td>Role of endothelin-1 in lung disease</td>\n      <td>10.1186/rr44</td>\n      <td>PMC59574</td>\n      <td>11686871</td>\n      <td>no-cc</td>\n      <td>Endothelin-1 (ET-1) is a 21 amino acid peptide...</td>\n      <td>2001-02-22</td>\n      <td>Fagan, Karen A; McMurtry, Ivan F; Rodman, David M</td>\n      <td>Respir Res</td>\n      <td>NaN</td>\n      <td>NaN</td>\n      <td>NaN</td>\n      <td>document_parses/pdf_json/348055649b6b8cf2b9a37...</td>\n      <td>document_parses/pmc_json/PMC59574.xml.json</td>\n      <td>https://www.ncbi.nlm.nih.gov/pmc/articles/PMC5...</td>\n      <td>NaN</td>\n    </tr>\n    <tr>\n      <th>4</th>\n      <td>9785vg6d</td>\n      <td>5f48792a5fa08bed9f56016f4981ae2ca6031b32</td>\n      <td>PMC</td>\n      <td>Gene expression in epithelial cells in respons...</td>\n      <td>10.1186/rr61</td>\n      <td>PMC59580</td>\n      <td>11686888</td>\n      <td>no-cc</td>\n      <td>Respiratory syncytial virus (RSV) and pneumoni...</td>\n      <td>2001-05-11</td>\n      <td>Domachowske, Joseph B; Bonville, Cynthia A; Ro...</td>\n      <td>Respir Res</td>\n      <td>NaN</td>\n      <td>NaN</td>\n      <td>NaN</td>\n      <td>document_parses/pdf_json/5f48792a5fa08bed9f560...</td>\n      <td>document_parses/pmc_json/PMC59580.xml.json</td>\n      <td>https://www.ncbi.nlm.nih.gov/pmc/articles/PMC5...</td>\n      <td>NaN</td>\n    </tr>\n  </tbody>\n</table>\n</div>"
     },
     "execution_count": 3,
     "metadata": {},
     "output_type": "execute_result"
    }
   ],
   "source": [
    "meta = pd.read_csv(\"../metadata.csv\")\n",
    "print(meta.shape)\n",
    "meta.head()"
   ],
   "metadata": {
    "collapsed": false,
    "pycharm": {
     "name": "#%%\n"
    }
   }
  },
  {
   "cell_type": "markdown",
   "source": [
    "Filter meta file by selecting only papers after 2020."
   ],
   "metadata": {
    "collapsed": false,
    "pycharm": {
     "name": "#%% md\n"
    }
   }
  },
  {
   "cell_type": "code",
   "execution_count": 4,
   "outputs": [
    {
     "name": "stdout",
     "output_type": "stream",
     "text": [
      "247255  papers are available after 2020 Jan 1.\n"
     ]
    }
   ],
   "source": [
    "meta[\"publish_time\"] = pd.to_datetime(meta[\"publish_time\"])\n",
    "meta[\"publish_year\"] = pd.DatetimeIndex(meta['publish_time']).year\n",
    "meta[\"publish_month\"] = pd.DatetimeIndex(meta['publish_time']).month\n",
    "meta = meta[meta[\"publish_year\"] == 2020]\n",
    "print(meta.shape[0], \" papers are available after 2020 Jan 1.\")"
   ],
   "metadata": {
    "collapsed": false,
    "pycharm": {
     "name": "#%%\n"
    }
   }
  },
  {
   "cell_type": "markdown",
   "source": [
    "Create dataframe with all abstracts and use it as input corpus."
   ],
   "metadata": {
    "collapsed": false,
    "pycharm": {
     "name": "#%% md\n"
    }
   }
  },
  {
   "cell_type": "code",
   "execution_count": 5,
   "outputs": [
    {
     "name": "stdout",
     "output_type": "stream",
     "text": [
      "(163820,)\n"
     ]
    },
    {
     "data": {
      "text/plain": "0    BACKGROUND: Dexmedetomidine has been reported ...\n1    BACKGROUND: Global end-diastolic volume (GEDV)...\n2    BACKGROUND: Human metapneumovirus (HMPV) is an...\n3    BACKGROUND: Antimicrobial resistance (AMR) com...\n4    Glycoconjugate vaccines based on bacterial cap...\nName: abstract, dtype: object"
     },
     "execution_count": 5,
     "metadata": {},
     "output_type": "execute_result"
    }
   ],
   "source": [
    "index = []\n",
    "for i in range(len(meta)):\n",
    "    if type(meta.iloc[i, 8]) != float:\n",
    "        index.append(i)\n",
    "docs = meta.iloc[index, 8]\n",
    "docs = docs.reset_index(drop= True)\n",
    "print(docs.shape)\n",
    "docs.head()"
   ],
   "metadata": {
    "collapsed": false,
    "pycharm": {
     "name": "#%%\n"
    }
   }
  },
  {
   "cell_type": "code",
   "execution_count": 6,
   "outputs": [],
   "source": [
    "samp_size = 5100 #51000\n",
    "samp_docs = docs.sample(n=samp_size,random_state=100)"
   ],
   "metadata": {
    "collapsed": false,
    "pycharm": {
     "name": "#%%\n"
    }
   }
  },
  {
   "cell_type": "markdown",
   "source": [
    "# 2. Preprocessing texts"
   ],
   "metadata": {
    "collapsed": false,
    "pycharm": {
     "name": "#%% md\n"
    }
   }
  },
  {
   "cell_type": "markdown",
   "source": [
    "Sentence level preprocess\n",
    "* Lowercase + base filter\n",
    "* Some basic normalization"
   ],
   "metadata": {
    "collapsed": false,
    "pycharm": {
     "name": "#%% md\n"
    }
   }
  },
  {
   "cell_type": "code",
   "execution_count": 7,
   "outputs": [],
   "source": [
    "import re\n",
    "def preprocess_sent(rw):\n",
    "    \"\"\"\n",
    "    Get sentence level preprocessed data from raw review texts\n",
    "    :param rw: review to be processed\n",
    "    :return: sentence level pre-processed review\n",
    "    \"\"\"\n",
    "    # Add missing delimiter: xxxThis is a --> xxx.\n",
    "    s = re.sub(r'([a-z])([A-Z])', r'\\1\\. \\2', rw)  # before lower case\n",
    "    # Make words all lower case.\n",
    "    s = s.lower()\n",
    "    # Remove < and >\n",
    "    s = re.sub(r'&gt|&lt', ' ', s)\n",
    "    # Remove letters that repeat more than 2 time.\n",
    "    s = re.sub(r'([a-z])\\1{2,}', r'\\1', s)\n",
    "    # Remove non-word characters that repeat more than 1 time.\n",
    "    s = re.sub(r'([\\W+])\\1{1,}', r'\\1', s)\n",
    "    # Use string * as delimiter\n",
    "    s = re.sub(r'\\*|\\W\\*|\\*\\W', '. ', s)\n",
    "    # Remove words in parenthesis, which are assumed less informal\n",
    "    s = re.sub(r'\\(.*?\\)', '. ', s)\n",
    "    # xxx[?!]. -- > xxx.\n",
    "    s = re.sub(r'\\W+?\\.', '.', s)\n",
    "    # [.?!]xxx --> [.?!] xxx\n",
    "    s = re.sub(r'(\\.|\\?|!)(\\w)', r'\\1 \\2', s)\n",
    "    return s.strip()\n",
    "\n",
    "text_lists = [preprocess_sent(text) for text in samp_docs]"
   ],
   "metadata": {
    "collapsed": false,
    "pycharm": {
     "name": "#%%\n"
    }
   }
  },
  {
   "cell_type": "markdown",
   "source": [
    " Word level preprocess"
   ],
   "metadata": {
    "collapsed": false
   }
  },
  {
   "cell_type": "code",
   "execution_count": 8,
   "outputs": [],
   "source": [
    "# define stemmer\n",
    "import nltk\n",
    "from nltk.stem.porter import *\n",
    "p_stemmer = PorterStemmer()\n",
    "\n",
    "# create stop words list\n",
    "from stop_words import get_stop_words\n",
    "stop_words = (list(\n",
    "    set(get_stop_words('en'))\n",
    "    |set(get_stop_words('es'))\n",
    "    |set(get_stop_words('de'))\n",
    "    |set(get_stop_words('it'))\n",
    "    |set(get_stop_words('ca'))\n",
    "    |set(get_stop_words('pt'))\n",
    "    |set(get_stop_words('pl'))\n",
    "    |set(get_stop_words('da'))\n",
    "    |set(get_stop_words('ru'))\n",
    "    |set(get_stop_words('sv'))\n",
    "    |set(get_stop_words('sk'))\n",
    "    |set(get_stop_words('nl'))\n",
    "    |set([\"abstract\"])\n",
    "))"
   ],
   "metadata": {
    "collapsed": false,
    "pycharm": {
     "name": "#%%\n"
    }
   }
  },
  {
   "cell_type": "code",
   "execution_count": 9,
   "outputs": [],
   "source": [
    "from nltk.tokenize import word_tokenize\n",
    "def preprocess_word(s):\n",
    "    \"\"\"\n",
    "    Get word level preprocessed data from preprocessed sentences\n",
    "    including: remove punctuation, select noun, fix typo, stem, stop_words\n",
    "    :param s: sentence to be processed\n",
    "    :return: word level pre-processed review\n",
    "    \"\"\"\n",
    "    if not s:\n",
    "        return None\n",
    "    w_list = word_tokenize(s)\n",
    "    w_list = [word for word in w_list if word.isalpha()]\n",
    "    w_list = [word for (word, pos) in nltk.pos_tag(w_list) if pos[:2] == 'NN']\n",
    "    w_list = [word for word in w_list if word not in stop_words]\n",
    "    w_list = [p_stemmer.stem(word) for word in w_list]\n",
    "\n",
    "    return w_list\n",
    "\n",
    "token_lists = [preprocess_word(text) for text in text_lists]\n",
    "print(len(token_lists))"
   ],
   "metadata": {
    "collapsed": false,
    "pycharm": {
     "name": "#%%\n"
    }
   }
  },
  {
   "cell_type": "code",
   "execution_count": null,
   "outputs": [],
   "source": [
    "token_lists = [item for item in token_lists if item != []]\n",
    "print(len(token_lists))"
   ],
   "metadata": {
    "collapsed": false,
    "pycharm": {
     "name": "#%%\n"
    }
   }
  },
  {
   "cell_type": "code",
   "execution_count": 16,
   "outputs": [
    {
     "name": "stdout",
     "output_type": "stream",
     "text": [
      "(5100, 2)\n",
      "(5100, 2)\n"
     ]
    }
   ],
   "source": [
    "# samp_pd = pd.DataFrame({\"abstract\": samp_docs, \"token\":token_lists}).reset_index(drop= True)\n",
    "# print(samp_pd.shape)\n",
    "# samp_pd.replace([],np.nan,inplace=True)\n",
    "# samp_pd.dropna(subset=[\"token\"],inplace=True)\n",
    "# print(samp_pd.shape)\n",
    "# samp_pd = samp_pd[samp_pd.token]\n",
    "# samp_pd.head()"
   ],
   "metadata": {
    "collapsed": false,
    "pycharm": {
     "name": "#%%\n"
    }
   }
  },
  {
   "cell_type": "markdown",
   "source": [
    "# 4. Define model object"
   ],
   "metadata": {
    "collapsed": false,
    "pycharm": {
     "name": "#%% md\n"
    }
   }
  },
  {
   "cell_type": "code",
   "execution_count": 23,
   "outputs": [],
   "source": [
    "import gensim\n",
    "from gensim import corpora, models"
   ],
   "metadata": {
    "collapsed": false,
    "pycharm": {
     "name": "#%%\n"
    }
   }
  },
  {
   "cell_type": "code",
   "execution_count": 24,
   "outputs": [],
   "source": [
    "ntopic = 10\n",
    "dictionary = corpora.Dictionary(token_lists)\n",
    "# convert tokenized documents into a document-term matrix\n",
    "corpus = [dictionary.doc2bow(text) for text in token_lists]\n",
    "lda_model = gensim.models.ldamodel.LdaModel(corpus, num_topics=ntopic, random_state=66, id2word=dictionary, passes=20)"
   ],
   "metadata": {
    "collapsed": false,
    "pycharm": {
     "name": "#%%\n"
    }
   }
  },
  {
   "cell_type": "code",
   "execution_count": 25,
   "outputs": [
    {
     "name": "stdout",
     "output_type": "stream",
     "text": [
      "(0, '0.037*\"protein\" + 0.018*\"interact\" + 0.014*\"structur\" + 0.013*\"mutat\" + 0.013*\"compound\" + 0.011*\"domain\" + 0.010*\"spike\" + 0.010*\"bind\" + 0.010*\"host\" + 0.010*\"studi\"')\n",
      "(1, '0.034*\"test\" + 0.030*\"sampl\" + 0.025*\"student\" + 0.022*\"detect\" + 0.020*\"method\" + 0.017*\"assay\" + 0.017*\"sensit\" + 0.016*\"antibodi\" + 0.015*\"result\" + 0.014*\"school\"')\n",
      "(2, '0.030*\"health\" + 0.023*\"care\" + 0.015*\"pandem\" + 0.012*\"system\" + 0.011*\"servic\" + 0.010*\"practic\" + 0.009*\"commun\" + 0.008*\"manag\" + 0.007*\"respons\" + 0.007*\"healthcar\"')\n",
      "(3, '0.048*\"cell\" + 0.021*\"infect\" + 0.019*\"respons\" + 0.014*\"express\" + 0.014*\"diseas\" + 0.012*\"gene\" + 0.012*\"immun\" + 0.011*\"cytokin\" + 0.011*\"lung\" + 0.011*\"role\"')\n",
      "(4, '0.102*\"patient\" + 0.021*\"diseas\" + 0.016*\"case\" + 0.015*\"risk\" + 0.015*\"studi\" + 0.015*\"treatment\" + 0.014*\"group\" + 0.014*\"result\" + 0.014*\"infect\" + 0.013*\"hospit\"')\n",
      "(5, '0.040*\"case\" + 0.029*\"model\" + 0.020*\"number\" + 0.020*\"data\" + 0.018*\"countri\" + 0.018*\"transmiss\" + 0.017*\"rate\" + 0.016*\"infect\" + 0.013*\"diseas\" + 0.013*\"measur\"')\n",
      "(6, '0.036*\"coronaviru\" + 0.035*\"drug\" + 0.032*\"diseas\" + 0.026*\"vaccin\" + 0.023*\"viru\" + 0.022*\"infect\" + 0.022*\"respiratori\" + 0.021*\"treatment\" + 0.015*\"syndrom\" + 0.014*\"review\"')\n",
      "(7, '0.014*\"method\" + 0.011*\"result\" + 0.011*\"group\" + 0.010*\"model\" + 0.009*\"studi\" + 0.008*\"system\" + 0.007*\"effect\" + 0.007*\"analysi\" + 0.007*\"energi\" + 0.007*\"concentr\"')\n",
      "(8, '0.027*\"data\" + 0.018*\"research\" + 0.015*\"inform\" + 0.012*\"paper\" + 0.011*\"studi\" + 0.009*\"analysi\" + 0.009*\"literatur\" + 0.008*\"articl\" + 0.008*\"result\" + 0.007*\"method\"')\n",
      "(9, '0.035*\"studi\" + 0.021*\"health\" + 0.017*\"children\" + 0.017*\"result\" + 0.015*\"particip\" + 0.014*\"risk\" + 0.012*\"women\" + 0.011*\"level\" + 0.011*\"anxieti\" + 0.010*\"effect\"')\n"
     ]
    }
   ],
   "source": [
    "for topic in lda_model.print_topics():\n",
    "    print(topic)"
   ],
   "metadata": {
    "collapsed": false,
    "pycharm": {
     "name": "#%%\n"
    }
   }
  },
  {
   "cell_type": "markdown",
   "source": [
    "the Dominant topic and its percentage contribution in each document"
   ],
   "metadata": {
    "collapsed": false,
    "pycharm": {
     "name": "#%% md\n"
    }
   }
  },
  {
   "cell_type": "code",
   "execution_count": null,
   "outputs": [],
   "source": [
    "def format_topics_sentences(ldamodel=None, corpus=corpus, texts=data):\n",
    "    # Init output\n",
    "    sent_topics_df = pd.DataFrame()\n",
    "\n",
    "    # Get main topic in each document\n",
    "    for i, row_list in enumerate(ldamodel[corpus]):\n",
    "        row = row_list[0] if ldamodel.per_word_topics else row_list\n",
    "        # print(row)\n",
    "        row = sorted(row, key=lambda x: (x[1]), reverse=True)\n",
    "        # Get the Dominant topic, Perc Contribution and Keywords for each document\n",
    "        for j, (topic_num, prop_topic) in enumerate(row):\n",
    "            if j == 0:  # => dominant topic\n",
    "                wp = ldamodel.show_topic(topic_num)\n",
    "                topic_keywords = \", \".join([word for word, prop in wp])\n",
    "                sent_topics_df = sent_topics_df.append(pd.Series([int(topic_num), round(prop_topic,4), topic_keywords]), ignore_index=True)\n",
    "            else:\n",
    "                break\n",
    "    sent_topics_df.columns = ['Dominant_Topic', 'Perc_Contribution', 'Topic_Keywords']\n",
    "\n",
    "    # Add original text to the end of the output\n",
    "    contents = pd.Series(texts)\n",
    "    sent_topics_df = pd.concat([sent_topics_df, contents], axis=1)\n",
    "    return(sent_topics_df)\n",
    "\n",
    "\n",
    "df_topic_sents_keywords = format_topics_sentences(ldamodel=lda_model, corpus=corpus, texts=data_ready)\n",
    "\n",
    "# Format\n",
    "df_dominant_topic = df_topic_sents_keywords.reset_index()\n",
    "df_dominant_topic.columns = ['Document_No', 'Dominant_Topic', 'Topic_Perc_Contrib', 'Keywords', 'Text']\n",
    "df_dominant_topic.head(10)"
   ],
   "metadata": {
    "collapsed": false,
    "pycharm": {
     "name": "#%%\n"
    }
   }
  }
 ],
 "metadata": {
  "kernelspec": {
   "name": "pycharm-3d929fb3",
   "language": "python",
   "display_name": "PyCharm (textmining)"
  },
  "language_info": {
   "codemirror_mode": {
    "name": "ipython",
    "version": 2
   },
   "file_extension": ".py",
   "mimetype": "text/x-python",
   "name": "python",
   "nbconvert_exporter": "python",
   "pygments_lexer": "ipython2",
   "version": "2.7.6"
  }
 },
 "nbformat": 4,
 "nbformat_minor": 0
}